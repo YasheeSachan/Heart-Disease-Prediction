{
  "cells": [
    {
      "cell_type": "markdown",
      "metadata": {
        "id": "view-in-github",
        "colab_type": "text"
      },
      "source": [
        "<a href=\"https://colab.research.google.com/github/YasheeSachan/Heart-Disease-Prediction/blob/main/Heart_Attack_Prediction_code.ipynb\" target=\"_parent\"><img src=\"https://colab.research.google.com/assets/colab-badge.svg\" alt=\"Open In Colab\"/></a>"
      ]
    },
    {
      "cell_type": "code",
      "execution_count": null,
      "id": "475a0ee6",
      "metadata": {
        "scrolled": true,
        "id": "475a0ee6",
        "outputId": "09716e6a-08cf-4821-9afd-a3ebe28e5a4c"
      },
      "outputs": [
        {
          "name": "stdout",
          "output_type": "stream",
          "text": [
            "     Age Sex ChestPainType  RestingBP  Cholesterol  FastingBS RestingECG  \\\n",
            "0     40   M           ATA        140          289          0     Normal   \n",
            "1     49   F           NAP        160          180          0     Normal   \n",
            "2     37   M           ATA        130          283          0         ST   \n",
            "3     48   F           ASY        138          214          0     Normal   \n",
            "4     54   M           NAP        150          195          0     Normal   \n",
            "..   ...  ..           ...        ...          ...        ...        ...   \n",
            "913   45   M            TA        110          264          0     Normal   \n",
            "914   68   M           ASY        144          193          1     Normal   \n",
            "915   57   M           ASY        130          131          0     Normal   \n",
            "916   57   F           ATA        130          236          0        LVH   \n",
            "917   38   M           NAP        138          175          0     Normal   \n",
            "\n",
            "     MaxHR ExerciseAngina  Oldpeak ST_Slope  HeartDisease  \n",
            "0      172              N      0.0       Up             0  \n",
            "1      156              N      1.0     Flat             1  \n",
            "2       98              N      0.0       Up             0  \n",
            "3      108              Y      1.5     Flat             1  \n",
            "4      122              N      0.0       Up             0  \n",
            "..     ...            ...      ...      ...           ...  \n",
            "913    132              N      1.2     Flat             1  \n",
            "914    141              N      3.4     Flat             1  \n",
            "915    115              Y      1.2     Flat             1  \n",
            "916    174              N      0.0     Flat             1  \n",
            "917    173              N      0.0       Up             0  \n",
            "\n",
            "[918 rows x 12 columns]\n"
          ]
        }
      ],
      "source": [
        "import pandas as pd\n",
        "df=pd.read_csv('heart.csv')\n",
        "print(df)"
      ]
    },
    {
      "cell_type": "code",
      "execution_count": null,
      "id": "fb8d7fad",
      "metadata": {
        "id": "fb8d7fad",
        "outputId": "11a292b0-6096-4870-d132-f3db6ce609a8"
      },
      "outputs": [
        {
          "name": "stdout",
          "output_type": "stream",
          "text": [
            "(918, 12)\n"
          ]
        }
      ],
      "source": [
        "print(df.shape)"
      ]
    },
    {
      "cell_type": "code",
      "execution_count": null,
      "id": "33fbefd7",
      "metadata": {
        "id": "33fbefd7",
        "outputId": "1cb3ee90-55e8-4944-d0e7-0e7b9de8913d"
      },
      "outputs": [
        {
          "data": {
            "text/plain": [
              "11016"
            ]
          },
          "execution_count": 7,
          "metadata": {},
          "output_type": "execute_result"
        }
      ],
      "source": [
        "df.size"
      ]
    },
    {
      "cell_type": "code",
      "execution_count": null,
      "id": "e8f7482a",
      "metadata": {
        "scrolled": true,
        "id": "e8f7482a",
        "outputId": "339dab0d-ab8d-40f2-9196-1b37bbfa677c"
      },
      "outputs": [
        {
          "name": "stdout",
          "output_type": "stream",
          "text": [
            "Number of rows= 918\n",
            "Number of columns= 12\n"
          ]
        }
      ],
      "source": [
        "print('Number of rows=',df.shape[0])\n",
        "print('Number of columns=',df.shape[1])"
      ]
    },
    {
      "cell_type": "code",
      "execution_count": null,
      "id": "76637b51",
      "metadata": {
        "id": "76637b51",
        "outputId": "33519ebb-61bb-4336-ab2a-c2dd23982f75"
      },
      "outputs": [
        {
          "data": {
            "text/plain": [
              "array([[40, 'M', 'ATA', ..., 0.0, 'Up', 0],\n",
              "       [49, 'F', 'NAP', ..., 1.0, 'Flat', 1],\n",
              "       [37, 'M', 'ATA', ..., 0.0, 'Up', 0],\n",
              "       ...,\n",
              "       [57, 'M', 'ASY', ..., 1.2, 'Flat', 1],\n",
              "       [57, 'F', 'ATA', ..., 0.0, 'Flat', 1],\n",
              "       [38, 'M', 'NAP', ..., 0.0, 'Up', 0]], dtype=object)"
            ]
          },
          "execution_count": 9,
          "metadata": {},
          "output_type": "execute_result"
        }
      ],
      "source": [
        "df.values"
      ]
    },
    {
      "cell_type": "code",
      "execution_count": null,
      "id": "3f3e92a1",
      "metadata": {
        "id": "3f3e92a1",
        "outputId": "ce22e2a3-f9a3-48f8-fe1f-22a0209e7931"
      },
      "outputs": [
        {
          "data": {
            "text/html": [
              "<div>\n",
              "<style scoped>\n",
              "    .dataframe tbody tr th:only-of-type {\n",
              "        vertical-align: middle;\n",
              "    }\n",
              "\n",
              "    .dataframe tbody tr th {\n",
              "        vertical-align: top;\n",
              "    }\n",
              "\n",
              "    .dataframe thead th {\n",
              "        text-align: right;\n",
              "    }\n",
              "</style>\n",
              "<table border=\"1\" class=\"dataframe\">\n",
              "  <thead>\n",
              "    <tr style=\"text-align: right;\">\n",
              "      <th></th>\n",
              "      <th>Age</th>\n",
              "      <th>Sex</th>\n",
              "      <th>ChestPainType</th>\n",
              "      <th>RestingBP</th>\n",
              "      <th>Cholesterol</th>\n",
              "      <th>FastingBS</th>\n",
              "      <th>RestingECG</th>\n",
              "      <th>MaxHR</th>\n",
              "      <th>ExerciseAngina</th>\n",
              "      <th>Oldpeak</th>\n",
              "      <th>ST_Slope</th>\n",
              "      <th>HeartDisease</th>\n",
              "    </tr>\n",
              "  </thead>\n",
              "  <tbody>\n",
              "    <tr>\n",
              "      <th>0</th>\n",
              "      <td>40</td>\n",
              "      <td>M</td>\n",
              "      <td>ATA</td>\n",
              "      <td>140</td>\n",
              "      <td>289</td>\n",
              "      <td>0</td>\n",
              "      <td>Normal</td>\n",
              "      <td>172</td>\n",
              "      <td>N</td>\n",
              "      <td>0.0</td>\n",
              "      <td>Up</td>\n",
              "      <td>0</td>\n",
              "    </tr>\n",
              "    <tr>\n",
              "      <th>1</th>\n",
              "      <td>49</td>\n",
              "      <td>F</td>\n",
              "      <td>NAP</td>\n",
              "      <td>160</td>\n",
              "      <td>180</td>\n",
              "      <td>0</td>\n",
              "      <td>Normal</td>\n",
              "      <td>156</td>\n",
              "      <td>N</td>\n",
              "      <td>1.0</td>\n",
              "      <td>Flat</td>\n",
              "      <td>1</td>\n",
              "    </tr>\n",
              "    <tr>\n",
              "      <th>2</th>\n",
              "      <td>37</td>\n",
              "      <td>M</td>\n",
              "      <td>ATA</td>\n",
              "      <td>130</td>\n",
              "      <td>283</td>\n",
              "      <td>0</td>\n",
              "      <td>ST</td>\n",
              "      <td>98</td>\n",
              "      <td>N</td>\n",
              "      <td>0.0</td>\n",
              "      <td>Up</td>\n",
              "      <td>0</td>\n",
              "    </tr>\n",
              "    <tr>\n",
              "      <th>3</th>\n",
              "      <td>48</td>\n",
              "      <td>F</td>\n",
              "      <td>ASY</td>\n",
              "      <td>138</td>\n",
              "      <td>214</td>\n",
              "      <td>0</td>\n",
              "      <td>Normal</td>\n",
              "      <td>108</td>\n",
              "      <td>Y</td>\n",
              "      <td>1.5</td>\n",
              "      <td>Flat</td>\n",
              "      <td>1</td>\n",
              "    </tr>\n",
              "    <tr>\n",
              "      <th>4</th>\n",
              "      <td>54</td>\n",
              "      <td>M</td>\n",
              "      <td>NAP</td>\n",
              "      <td>150</td>\n",
              "      <td>195</td>\n",
              "      <td>0</td>\n",
              "      <td>Normal</td>\n",
              "      <td>122</td>\n",
              "      <td>N</td>\n",
              "      <td>0.0</td>\n",
              "      <td>Up</td>\n",
              "      <td>0</td>\n",
              "    </tr>\n",
              "  </tbody>\n",
              "</table>\n",
              "</div>"
            ],
            "text/plain": [
              "   Age Sex ChestPainType  RestingBP  Cholesterol  FastingBS RestingECG  MaxHR  \\\n",
              "0   40   M           ATA        140          289          0     Normal    172   \n",
              "1   49   F           NAP        160          180          0     Normal    156   \n",
              "2   37   M           ATA        130          283          0         ST     98   \n",
              "3   48   F           ASY        138          214          0     Normal    108   \n",
              "4   54   M           NAP        150          195          0     Normal    122   \n",
              "\n",
              "  ExerciseAngina  Oldpeak ST_Slope  HeartDisease  \n",
              "0              N      0.0       Up             0  \n",
              "1              N      1.0     Flat             1  \n",
              "2              N      0.0       Up             0  \n",
              "3              Y      1.5     Flat             1  \n",
              "4              N      0.0       Up             0  "
            ]
          },
          "execution_count": 10,
          "metadata": {},
          "output_type": "execute_result"
        }
      ],
      "source": [
        "df.head()"
      ]
    },
    {
      "cell_type": "markdown",
      "id": "32dac32b",
      "metadata": {
        "id": "32dac32b"
      },
      "source": [
        "Age: age of the patient (years)\n",
        "Sex: sex of the patient (M: Male, F: Female)\n",
        "ChestPainType: chest pain type \n",
        "(TA: Typical Angina,\n",
        "ATA: Atypical Angina, \n",
        "NAP: Non-Anginal Pain, \n",
        "ASY: Asymptomatic)\n",
        "RestingBP: resting blood pressure (mm Hg)\n",
        "Cholesterol: serum cholesterol (mm/dl)\n",
        "FastingBS: fasting blood sugar \n",
        "RestingECG: resting electrocardiogram results (Normal: Normal, ST: having ST-T wave abnormality, LVH: showing probable or definite left ventricular hypertrophy by Estes' criteria]\n",
        "MaxHR: maximum heart rate achieved (Numeric value between 60 and 202)\n",
        "ExerciseAngina: exercise-induced angina (Y: Yes, N: No)\n",
        "Oldpeak: oldpeak = ST (Numeric value measured in depression)\n",
        "ST_Slope: the slope of the peak exercise ST segment (Up: upsloping, Flat: flat, Down: downsloping)\n",
        "HeartDisease: output class (1: heart disease, 0: Normal)"
      ]
    },
    {
      "cell_type": "code",
      "execution_count": null,
      "id": "96eda789",
      "metadata": {
        "scrolled": true,
        "id": "96eda789",
        "outputId": "173ef82d-d6a2-4332-972c-95238d135528"
      },
      "outputs": [
        {
          "data": {
            "text/html": [
              "<div>\n",
              "<style scoped>\n",
              "    .dataframe tbody tr th:only-of-type {\n",
              "        vertical-align: middle;\n",
              "    }\n",
              "\n",
              "    .dataframe tbody tr th {\n",
              "        vertical-align: top;\n",
              "    }\n",
              "\n",
              "    .dataframe thead th {\n",
              "        text-align: right;\n",
              "    }\n",
              "</style>\n",
              "<table border=\"1\" class=\"dataframe\">\n",
              "  <thead>\n",
              "    <tr style=\"text-align: right;\">\n",
              "      <th></th>\n",
              "      <th>Age</th>\n",
              "      <th>Sex</th>\n",
              "      <th>ChestPainType</th>\n",
              "      <th>RestingBP</th>\n",
              "      <th>Cholesterol</th>\n",
              "      <th>FastingBS</th>\n",
              "      <th>RestingECG</th>\n",
              "      <th>MaxHR</th>\n",
              "      <th>ExerciseAngina</th>\n",
              "      <th>Oldpeak</th>\n",
              "      <th>ST_Slope</th>\n",
              "      <th>HeartDisease</th>\n",
              "    </tr>\n",
              "  </thead>\n",
              "  <tbody>\n",
              "    <tr>\n",
              "      <th>913</th>\n",
              "      <td>45</td>\n",
              "      <td>M</td>\n",
              "      <td>TA</td>\n",
              "      <td>110</td>\n",
              "      <td>264</td>\n",
              "      <td>0</td>\n",
              "      <td>Normal</td>\n",
              "      <td>132</td>\n",
              "      <td>N</td>\n",
              "      <td>1.2</td>\n",
              "      <td>Flat</td>\n",
              "      <td>1</td>\n",
              "    </tr>\n",
              "    <tr>\n",
              "      <th>914</th>\n",
              "      <td>68</td>\n",
              "      <td>M</td>\n",
              "      <td>ASY</td>\n",
              "      <td>144</td>\n",
              "      <td>193</td>\n",
              "      <td>1</td>\n",
              "      <td>Normal</td>\n",
              "      <td>141</td>\n",
              "      <td>N</td>\n",
              "      <td>3.4</td>\n",
              "      <td>Flat</td>\n",
              "      <td>1</td>\n",
              "    </tr>\n",
              "    <tr>\n",
              "      <th>915</th>\n",
              "      <td>57</td>\n",
              "      <td>M</td>\n",
              "      <td>ASY</td>\n",
              "      <td>130</td>\n",
              "      <td>131</td>\n",
              "      <td>0</td>\n",
              "      <td>Normal</td>\n",
              "      <td>115</td>\n",
              "      <td>Y</td>\n",
              "      <td>1.2</td>\n",
              "      <td>Flat</td>\n",
              "      <td>1</td>\n",
              "    </tr>\n",
              "    <tr>\n",
              "      <th>916</th>\n",
              "      <td>57</td>\n",
              "      <td>F</td>\n",
              "      <td>ATA</td>\n",
              "      <td>130</td>\n",
              "      <td>236</td>\n",
              "      <td>0</td>\n",
              "      <td>LVH</td>\n",
              "      <td>174</td>\n",
              "      <td>N</td>\n",
              "      <td>0.0</td>\n",
              "      <td>Flat</td>\n",
              "      <td>1</td>\n",
              "    </tr>\n",
              "    <tr>\n",
              "      <th>917</th>\n",
              "      <td>38</td>\n",
              "      <td>M</td>\n",
              "      <td>NAP</td>\n",
              "      <td>138</td>\n",
              "      <td>175</td>\n",
              "      <td>0</td>\n",
              "      <td>Normal</td>\n",
              "      <td>173</td>\n",
              "      <td>N</td>\n",
              "      <td>0.0</td>\n",
              "      <td>Up</td>\n",
              "      <td>0</td>\n",
              "    </tr>\n",
              "  </tbody>\n",
              "</table>\n",
              "</div>"
            ],
            "text/plain": [
              "     Age Sex ChestPainType  RestingBP  Cholesterol  FastingBS RestingECG  \\\n",
              "913   45   M            TA        110          264          0     Normal   \n",
              "914   68   M           ASY        144          193          1     Normal   \n",
              "915   57   M           ASY        130          131          0     Normal   \n",
              "916   57   F           ATA        130          236          0        LVH   \n",
              "917   38   M           NAP        138          175          0     Normal   \n",
              "\n",
              "     MaxHR ExerciseAngina  Oldpeak ST_Slope  HeartDisease  \n",
              "913    132              N      1.2     Flat             1  \n",
              "914    141              N      3.4     Flat             1  \n",
              "915    115              Y      1.2     Flat             1  \n",
              "916    174              N      0.0     Flat             1  \n",
              "917    173              N      0.0       Up             0  "
            ]
          },
          "execution_count": 11,
          "metadata": {},
          "output_type": "execute_result"
        }
      ],
      "source": [
        "df.tail()"
      ]
    },
    {
      "cell_type": "code",
      "execution_count": null,
      "id": "4b886e57",
      "metadata": {
        "scrolled": false,
        "id": "4b886e57",
        "outputId": "866e11b1-c03d-4423-b78a-42208a643bbf"
      },
      "outputs": [
        {
          "data": {
            "text/plain": [
              "Age               0\n",
              "Sex               0\n",
              "ChestPainType     0\n",
              "RestingBP         0\n",
              "Cholesterol       0\n",
              "FastingBS         0\n",
              "RestingECG        0\n",
              "MaxHR             0\n",
              "ExerciseAngina    0\n",
              "Oldpeak           0\n",
              "ST_Slope          0\n",
              "HeartDisease      0\n",
              "dtype: int64"
            ]
          },
          "execution_count": 12,
          "metadata": {},
          "output_type": "execute_result"
        }
      ],
      "source": [
        "df.isna().sum()"
      ]
    },
    {
      "cell_type": "code",
      "execution_count": null,
      "id": "1efdea38",
      "metadata": {
        "scrolled": false,
        "id": "1efdea38",
        "outputId": "2313d0f3-e65b-4494-945a-c1b638f3b860"
      },
      "outputs": [
        {
          "name": "stdout",
          "output_type": "stream",
          "text": [
            "<class 'pandas.core.frame.DataFrame'>\n",
            "RangeIndex: 918 entries, 0 to 917\n",
            "Data columns (total 12 columns):\n",
            " #   Column          Non-Null Count  Dtype  \n",
            "---  ------          --------------  -----  \n",
            " 0   Age             918 non-null    int64  \n",
            " 1   Sex             918 non-null    object \n",
            " 2   ChestPainType   918 non-null    object \n",
            " 3   RestingBP       918 non-null    int64  \n",
            " 4   Cholesterol     918 non-null    int64  \n",
            " 5   FastingBS       918 non-null    int64  \n",
            " 6   RestingECG      918 non-null    object \n",
            " 7   MaxHR           918 non-null    int64  \n",
            " 8   ExerciseAngina  918 non-null    object \n",
            " 9   Oldpeak         918 non-null    float64\n",
            " 10  ST_Slope        918 non-null    object \n",
            " 11  HeartDisease    918 non-null    int64  \n",
            "dtypes: float64(1), int64(6), object(5)\n",
            "memory usage: 86.2+ KB\n"
          ]
        }
      ],
      "source": [
        "df.info()"
      ]
    },
    {
      "cell_type": "code",
      "execution_count": null,
      "id": "e03aa707",
      "metadata": {
        "scrolled": false,
        "id": "e03aa707",
        "outputId": "8b2571f4-8c26-4abb-e215-b8b5a50bdac5"
      },
      "outputs": [
        {
          "data": {
            "text/html": [
              "<div>\n",
              "<style scoped>\n",
              "    .dataframe tbody tr th:only-of-type {\n",
              "        vertical-align: middle;\n",
              "    }\n",
              "\n",
              "    .dataframe tbody tr th {\n",
              "        vertical-align: top;\n",
              "    }\n",
              "\n",
              "    .dataframe thead th {\n",
              "        text-align: right;\n",
              "    }\n",
              "</style>\n",
              "<table border=\"1\" class=\"dataframe\">\n",
              "  <thead>\n",
              "    <tr style=\"text-align: right;\">\n",
              "      <th></th>\n",
              "      <th>Age</th>\n",
              "      <th>RestingBP</th>\n",
              "      <th>Cholesterol</th>\n",
              "      <th>FastingBS</th>\n",
              "      <th>MaxHR</th>\n",
              "      <th>Oldpeak</th>\n",
              "      <th>HeartDisease</th>\n",
              "    </tr>\n",
              "  </thead>\n",
              "  <tbody>\n",
              "    <tr>\n",
              "      <th>count</th>\n",
              "      <td>918.000000</td>\n",
              "      <td>918.000000</td>\n",
              "      <td>918.000000</td>\n",
              "      <td>918.000000</td>\n",
              "      <td>918.000000</td>\n",
              "      <td>918.000000</td>\n",
              "      <td>918.000000</td>\n",
              "    </tr>\n",
              "    <tr>\n",
              "      <th>mean</th>\n",
              "      <td>53.510893</td>\n",
              "      <td>132.396514</td>\n",
              "      <td>198.799564</td>\n",
              "      <td>0.233115</td>\n",
              "      <td>136.809368</td>\n",
              "      <td>0.887364</td>\n",
              "      <td>0.553377</td>\n",
              "    </tr>\n",
              "    <tr>\n",
              "      <th>std</th>\n",
              "      <td>9.432617</td>\n",
              "      <td>18.514154</td>\n",
              "      <td>109.384145</td>\n",
              "      <td>0.423046</td>\n",
              "      <td>25.460334</td>\n",
              "      <td>1.066570</td>\n",
              "      <td>0.497414</td>\n",
              "    </tr>\n",
              "    <tr>\n",
              "      <th>min</th>\n",
              "      <td>28.000000</td>\n",
              "      <td>0.000000</td>\n",
              "      <td>0.000000</td>\n",
              "      <td>0.000000</td>\n",
              "      <td>60.000000</td>\n",
              "      <td>-2.600000</td>\n",
              "      <td>0.000000</td>\n",
              "    </tr>\n",
              "    <tr>\n",
              "      <th>25%</th>\n",
              "      <td>47.000000</td>\n",
              "      <td>120.000000</td>\n",
              "      <td>173.250000</td>\n",
              "      <td>0.000000</td>\n",
              "      <td>120.000000</td>\n",
              "      <td>0.000000</td>\n",
              "      <td>0.000000</td>\n",
              "    </tr>\n",
              "    <tr>\n",
              "      <th>50%</th>\n",
              "      <td>54.000000</td>\n",
              "      <td>130.000000</td>\n",
              "      <td>223.000000</td>\n",
              "      <td>0.000000</td>\n",
              "      <td>138.000000</td>\n",
              "      <td>0.600000</td>\n",
              "      <td>1.000000</td>\n",
              "    </tr>\n",
              "    <tr>\n",
              "      <th>75%</th>\n",
              "      <td>60.000000</td>\n",
              "      <td>140.000000</td>\n",
              "      <td>267.000000</td>\n",
              "      <td>0.000000</td>\n",
              "      <td>156.000000</td>\n",
              "      <td>1.500000</td>\n",
              "      <td>1.000000</td>\n",
              "    </tr>\n",
              "    <tr>\n",
              "      <th>max</th>\n",
              "      <td>77.000000</td>\n",
              "      <td>200.000000</td>\n",
              "      <td>603.000000</td>\n",
              "      <td>1.000000</td>\n",
              "      <td>202.000000</td>\n",
              "      <td>6.200000</td>\n",
              "      <td>1.000000</td>\n",
              "    </tr>\n",
              "  </tbody>\n",
              "</table>\n",
              "</div>"
            ],
            "text/plain": [
              "              Age   RestingBP  Cholesterol   FastingBS       MaxHR  \\\n",
              "count  918.000000  918.000000   918.000000  918.000000  918.000000   \n",
              "mean    53.510893  132.396514   198.799564    0.233115  136.809368   \n",
              "std      9.432617   18.514154   109.384145    0.423046   25.460334   \n",
              "min     28.000000    0.000000     0.000000    0.000000   60.000000   \n",
              "25%     47.000000  120.000000   173.250000    0.000000  120.000000   \n",
              "50%     54.000000  130.000000   223.000000    0.000000  138.000000   \n",
              "75%     60.000000  140.000000   267.000000    0.000000  156.000000   \n",
              "max     77.000000  200.000000   603.000000    1.000000  202.000000   \n",
              "\n",
              "          Oldpeak  HeartDisease  \n",
              "count  918.000000    918.000000  \n",
              "mean     0.887364      0.553377  \n",
              "std      1.066570      0.497414  \n",
              "min     -2.600000      0.000000  \n",
              "25%      0.000000      0.000000  \n",
              "50%      0.600000      1.000000  \n",
              "75%      1.500000      1.000000  \n",
              "max      6.200000      1.000000  "
            ]
          },
          "execution_count": 14,
          "metadata": {},
          "output_type": "execute_result"
        }
      ],
      "source": [
        "df.describe()"
      ]
    },
    {
      "cell_type": "code",
      "execution_count": null,
      "id": "f23b6bbb",
      "metadata": {
        "id": "f23b6bbb",
        "outputId": "a13234f3-4a13-41e6-afdc-7741292eb4e4"
      },
      "outputs": [
        {
          "data": {
            "text/html": [
              "<div>\n",
              "<style scoped>\n",
              "    .dataframe tbody tr th:only-of-type {\n",
              "        vertical-align: middle;\n",
              "    }\n",
              "\n",
              "    .dataframe tbody tr th {\n",
              "        vertical-align: top;\n",
              "    }\n",
              "\n",
              "    .dataframe thead th {\n",
              "        text-align: right;\n",
              "    }\n",
              "</style>\n",
              "<table border=\"1\" class=\"dataframe\">\n",
              "  <thead>\n",
              "    <tr style=\"text-align: right;\">\n",
              "      <th></th>\n",
              "      <th>Sex</th>\n",
              "      <th>ChestPainType</th>\n",
              "      <th>RestingECG</th>\n",
              "      <th>ExerciseAngina</th>\n",
              "      <th>ST_Slope</th>\n",
              "    </tr>\n",
              "  </thead>\n",
              "  <tbody>\n",
              "    <tr>\n",
              "      <th>count</th>\n",
              "      <td>918</td>\n",
              "      <td>918</td>\n",
              "      <td>918</td>\n",
              "      <td>918</td>\n",
              "      <td>918</td>\n",
              "    </tr>\n",
              "    <tr>\n",
              "      <th>unique</th>\n",
              "      <td>2</td>\n",
              "      <td>4</td>\n",
              "      <td>3</td>\n",
              "      <td>2</td>\n",
              "      <td>3</td>\n",
              "    </tr>\n",
              "    <tr>\n",
              "      <th>top</th>\n",
              "      <td>M</td>\n",
              "      <td>ASY</td>\n",
              "      <td>Normal</td>\n",
              "      <td>N</td>\n",
              "      <td>Flat</td>\n",
              "    </tr>\n",
              "    <tr>\n",
              "      <th>freq</th>\n",
              "      <td>725</td>\n",
              "      <td>496</td>\n",
              "      <td>552</td>\n",
              "      <td>547</td>\n",
              "      <td>460</td>\n",
              "    </tr>\n",
              "  </tbody>\n",
              "</table>\n",
              "</div>"
            ],
            "text/plain": [
              "        Sex ChestPainType RestingECG ExerciseAngina ST_Slope\n",
              "count   918           918        918            918      918\n",
              "unique    2             4          3              2        3\n",
              "top       M           ASY     Normal              N     Flat\n",
              "freq    725           496        552            547      460"
            ]
          },
          "execution_count": 4,
          "metadata": {},
          "output_type": "execute_result"
        }
      ],
      "source": [
        "#description of data object columns\n",
        "df.select_dtypes(include=['object']).describe()"
      ]
    },
    {
      "cell_type": "code",
      "execution_count": null,
      "id": "67759607",
      "metadata": {
        "id": "67759607"
      },
      "outputs": [],
      "source": [
        "import numpy as np\n",
        "df['Sex'] = np.where(df['Sex'] == 'M', 1, 0)\n",
        "df['ExerciseAngina'] = np.where(df['ExerciseAngina'] == 'Y', 1, 0)\n",
        "y=df.HeartDisease\n",
        "x=df.drop('HeartDisease',axis=1)\n",
        "#conversion to binary\n",
        "x=pd.get_dummies(x)"
      ]
    },
    {
      "cell_type": "code",
      "execution_count": null,
      "id": "9fbdc278",
      "metadata": {
        "scrolled": true,
        "id": "9fbdc278",
        "outputId": "cb48631e-1d9f-4f19-8996-8bdb94f54050"
      },
      "outputs": [
        {
          "name": "stdout",
          "output_type": "stream",
          "text": [
            "     Age  Sex  RestingBP  Cholesterol  FastingBS  MaxHR  ExerciseAngina  \\\n",
            "0     40    1        140          289          0    172               0   \n",
            "1     49    0        160          180          0    156               0   \n",
            "2     37    1        130          283          0     98               0   \n",
            "3     48    0        138          214          0    108               1   \n",
            "4     54    1        150          195          0    122               0   \n",
            "..   ...  ...        ...          ...        ...    ...             ...   \n",
            "913   45    1        110          264          0    132               0   \n",
            "914   68    1        144          193          1    141               0   \n",
            "915   57    1        130          131          0    115               1   \n",
            "916   57    0        130          236          0    174               0   \n",
            "917   38    1        138          175          0    173               0   \n",
            "\n",
            "     Oldpeak  ChestPainType_ASY  ChestPainType_ATA  ChestPainType_NAP  \\\n",
            "0        0.0                  0                  1                  0   \n",
            "1        1.0                  0                  0                  1   \n",
            "2        0.0                  0                  1                  0   \n",
            "3        1.5                  1                  0                  0   \n",
            "4        0.0                  0                  0                  1   \n",
            "..       ...                ...                ...                ...   \n",
            "913      1.2                  0                  0                  0   \n",
            "914      3.4                  1                  0                  0   \n",
            "915      1.2                  1                  0                  0   \n",
            "916      0.0                  0                  1                  0   \n",
            "917      0.0                  0                  0                  1   \n",
            "\n",
            "     ChestPainType_TA  RestingECG_LVH  RestingECG_Normal  RestingECG_ST  \\\n",
            "0                   0               0                  1              0   \n",
            "1                   0               0                  1              0   \n",
            "2                   0               0                  0              1   \n",
            "3                   0               0                  1              0   \n",
            "4                   0               0                  1              0   \n",
            "..                ...             ...                ...            ...   \n",
            "913                 1               0                  1              0   \n",
            "914                 0               0                  1              0   \n",
            "915                 0               0                  1              0   \n",
            "916                 0               1                  0              0   \n",
            "917                 0               0                  1              0   \n",
            "\n",
            "     ST_Slope_Down  ST_Slope_Flat  ST_Slope_Up  \n",
            "0                0              0            1  \n",
            "1                0              1            0  \n",
            "2                0              0            1  \n",
            "3                0              1            0  \n",
            "4                0              0            1  \n",
            "..             ...            ...          ...  \n",
            "913              0              1            0  \n",
            "914              0              1            0  \n",
            "915              0              1            0  \n",
            "916              0              1            0  \n",
            "917              0              0            1  \n",
            "\n",
            "[918 rows x 18 columns]\n"
          ]
        }
      ],
      "source": [
        "print(x)"
      ]
    },
    {
      "cell_type": "code",
      "execution_count": null,
      "id": "28481690",
      "metadata": {
        "scrolled": true,
        "id": "28481690",
        "outputId": "0325b983-0b5a-4f67-9e20-a5f280268e3e"
      },
      "outputs": [
        {
          "name": "stdout",
          "output_type": "stream",
          "text": [
            "(642, 18)\n",
            "(276, 18)\n"
          ]
        }
      ],
      "source": [
        "#Train and Test\n",
        "from sklearn.model_selection import train_test_split\n",
        "x_train,x_test,y_train,y_test=train_test_split(x,y,test_size=0.3,random_state=0)\n",
        "print(x_train.shape)\n",
        "print(x_test.shape)"
      ]
    },
    {
      "cell_type": "code",
      "execution_count": null,
      "id": "1cdc3650",
      "metadata": {
        "id": "1cdc3650",
        "outputId": "fe38f013-e924-4d05-fcda-b5f58845a1f9"
      },
      "outputs": [
        {
          "name": "stdout",
          "output_type": "stream",
          "text": [
            "Test acc= 0.6920289855072463\n"
          ]
        }
      ],
      "source": [
        "#Implementing Perceptron\n",
        "from sklearn.linear_model import Perceptron\n",
        "clf=Perceptron()\n",
        "clf.fit(x_train,y_train)\n",
        "y_pred=clf.predict(x_test)\n",
        "from sklearn.metrics import accuracy_score\n",
        "print('Test acc=',accuracy_score(y_test,y_pred))"
      ]
    },
    {
      "cell_type": "code",
      "execution_count": null,
      "id": "e38c1c29",
      "metadata": {
        "id": "e38c1c29"
      },
      "outputs": [],
      "source": [
        "from sklearn.preprocessing import MinMaxScaler\n",
        "mms=MinMaxScaler()\n",
        "mms.fit(x_train)\n",
        "x_train_mms=mms.transform(x_train)\n",
        "x_test_mms=mms.transform(x_test)"
      ]
    },
    {
      "cell_type": "code",
      "execution_count": null,
      "id": "b601396a",
      "metadata": {
        "id": "b601396a",
        "outputId": "eaf26098-1736-4433-beaa-3b5959024550"
      },
      "outputs": [
        {
          "name": "stdout",
          "output_type": "stream",
          "text": [
            "Test acc= 0.6920289855072463\n"
          ]
        }
      ],
      "source": [
        "from sklearn.linear_model import Perceptron\n",
        "clf=Perceptron()\n",
        "clf.fit(x_train,y_train)\n",
        "y_pred=clf.predict(x_test)\n",
        "from sklearn.metrics import accuracy_score\n",
        "print('Test acc=',accuracy_score(y_test,y_pred))"
      ]
    },
    {
      "cell_type": "code",
      "execution_count": null,
      "id": "18e3c3a6",
      "metadata": {
        "id": "18e3c3a6",
        "outputId": "5c770392-cfff-4cd2-d7e6-d6e2b7bc49f0"
      },
      "outputs": [
        {
          "name": "stdout",
          "output_type": "stream",
          "text": [
            "Test acc= 0.7789855072463768\n"
          ]
        }
      ],
      "source": [
        "from sklearn.tree import DecisionTreeClassifier\n",
        "clf=DecisionTreeClassifier()\n",
        "clf.fit(x_train,y_train)\n",
        "y_pred=clf.predict(x_test)\n",
        "from sklearn.metrics import accuracy_score\n",
        "print('Test acc=',accuracy_score(y_test,y_pred))"
      ]
    },
    {
      "cell_type": "code",
      "execution_count": null,
      "id": "ca66bc1c",
      "metadata": {
        "id": "ca66bc1c",
        "outputId": "cd0f4bfb-e74a-4bcd-8c86-435e4f358271"
      },
      "outputs": [
        {
          "name": "stderr",
          "output_type": "stream",
          "text": [
            "C:\\Users\\Yashee\\anaconda3\\lib\\site-packages\\sklearn\\linear_model\\_logistic.py:763: ConvergenceWarning: lbfgs failed to converge (status=1):\n",
            "STOP: TOTAL NO. of ITERATIONS REACHED LIMIT.\n",
            "\n",
            "Increase the number of iterations (max_iter) or scale the data as shown in:\n",
            "    https://scikit-learn.org/stable/modules/preprocessing.html\n",
            "Please also refer to the documentation for alternative solver options:\n",
            "    https://scikit-learn.org/stable/modules/linear_model.html#logistic-regression\n",
            "  n_iter_i = _check_optimize_result(\n"
          ]
        }
      ],
      "source": [
        "from sklearn.svm import SVC\n",
        "from sklearn.naive_bayes import GaussianNB\n",
        "from sklearn.neighbors import KNeighborsClassifier\n",
        "from sklearn.tree import DecisionTreeClassifier\n",
        "from sklearn.linear_model import Perceptron\n",
        "from sklearn.linear_model import LogisticRegression\n",
        "clf1=SVC()\n",
        "clf2=GaussianNB()\n",
        "clf3=KNeighborsClassifier()\n",
        "clf4=DecisionTreeClassifier()\n",
        "clf5=LogisticRegression()\n",
        "clf6=Perceptron()\n",
        "clf=[clf1,clf2,clf3,clf4,clf5,clf6]\n",
        "name=['SVM','GNB','KNN','DT','LR','PERC']\n",
        "acc={}\n",
        "t={}\n",
        "import time\n",
        "for classifier,classifier_name in zip(clf,name):\n",
        "    st=time.time()\n",
        "    classifier.fit(x_train,y_train)\n",
        "    y_pred=classifier.predict(x_test)\n",
        "    et=time.time()\n",
        "    acc[classifier_name]=accuracy_score(y_pred,y_test)\n",
        "    t[classifier_name]=et-st"
      ]
    },
    {
      "cell_type": "code",
      "execution_count": null,
      "id": "bce8a75b",
      "metadata": {
        "id": "bce8a75b",
        "outputId": "fa3c284b-fe44-41c8-de95-b6b4477e9c70"
      },
      "outputs": [
        {
          "data": {
            "text/plain": [
              "{'SVM': 0.7137681159420289,\n",
              " 'GNB': 0.8369565217391305,\n",
              " 'KNN': 0.6956521739130435,\n",
              " 'DT': 0.782608695652174,\n",
              " 'LR': 0.8333333333333334,\n",
              " 'PERC': 0.6920289855072463}"
            ]
          },
          "execution_count": 29,
          "metadata": {},
          "output_type": "execute_result"
        }
      ],
      "source": [
        "acc"
      ]
    },
    {
      "cell_type": "code",
      "execution_count": null,
      "id": "38a3a71c",
      "metadata": {
        "id": "38a3a71c",
        "outputId": "aac5bc06-db7e-4479-a3d0-4bba60cc381e"
      },
      "outputs": [
        {
          "data": {
            "text/plain": [
              "{'SVM': 0.058336734771728516,\n",
              " 'GNB': 0.0,\n",
              " 'KNN': 0.024003267288208008,\n",
              " 'DT': 0.008179426193237305,\n",
              " 'LR': 0.04687786102294922,\n",
              " 'PERC': 0.0}"
            ]
          },
          "execution_count": 30,
          "metadata": {},
          "output_type": "execute_result"
        }
      ],
      "source": [
        "t"
      ]
    },
    {
      "cell_type": "code",
      "execution_count": null,
      "id": "5659c831",
      "metadata": {
        "id": "5659c831",
        "outputId": "9fbf9084-9f0c-4462-c879-e16cdba48a46"
      },
      "outputs": [
        {
          "data": {
            "text/plain": [
              "0.8369565217391305"
            ]
          },
          "execution_count": 31,
          "metadata": {},
          "output_type": "execute_result"
        }
      ],
      "source": [
        "max(acc.values())"
      ]
    },
    {
      "cell_type": "code",
      "execution_count": null,
      "id": "870d4b30",
      "metadata": {
        "id": "870d4b30",
        "outputId": "2054006f-6a4a-444d-d657-dfad5d25a6e9"
      },
      "outputs": [
        {
          "name": "stdout",
          "output_type": "stream",
          "text": [
            "Test acc= 0.8731884057971014\n"
          ]
        }
      ],
      "source": [
        "#ensemble learning\n",
        "from sklearn.ensemble import BaggingClassifier,RandomForestClassifier,ExtraTreesClassifier\n",
        "from sklearn.ensemble import AdaBoostClassifier,GradientBoostingClassifier\n",
        "from sklearn.ensemble import VotingClassifier\n",
        "clf1=BaggingClassifier()\n",
        "clf2=RandomForestClassifier()\n",
        "clf3=ExtraTreesClassifier()\n",
        "clf4=AdaBoostClassifier()\n",
        "clf5=GradientBoostingClassifier()\n",
        "clf6=VotingClassifier(estimators=[('Bag',clf1),('rf',clf2),('ET',clf3),('Ada',clf4),('GTB',clf5)],voting='hard')\n",
        "clf6.fit(x_train,y_train)\n",
        "y_pred=clf6.predict(x_test)\n",
        "from sklearn.metrics import accuracy_score\n",
        "print('Test acc=',accuracy_score(y_test,y_pred))"
      ]
    },
    {
      "cell_type": "code",
      "execution_count": null,
      "id": "30de4f01",
      "metadata": {
        "id": "30de4f01",
        "outputId": "84df3a28-915d-450f-f557-9789727bda78"
      },
      "outputs": [
        {
          "name": "stdout",
          "output_type": "stream",
          "text": [
            "(918, 18)\n",
            "(918, 9)\n"
          ]
        }
      ],
      "source": [
        "#Feature selection\n",
        "from sklearn.feature_selection import SelectFromModel\n",
        "from sklearn.ensemble import RandomForestClassifier\n",
        "model=RandomForestClassifier().fit(x,y)\n",
        "fs=SelectFromModel(model,prefit=True)\n",
        "x_new=fs.transform(x)\n",
        "print(x.shape)\n",
        "print(x_new.shape)"
      ]
    },
    {
      "cell_type": "code",
      "execution_count": null,
      "id": "ca40240e",
      "metadata": {
        "id": "ca40240e",
        "outputId": "637a7cfb-16e1-44c2-bf3a-1547d9328b7d"
      },
      "outputs": [
        {
          "name": "stderr",
          "output_type": "stream",
          "text": [
            "C:\\Users\\Yashee\\anaconda3\\lib\\site-packages\\sklearn\\linear_model\\_logistic.py:763: ConvergenceWarning: lbfgs failed to converge (status=1):\n",
            "STOP: TOTAL NO. of ITERATIONS REACHED LIMIT.\n",
            "\n",
            "Increase the number of iterations (max_iter) or scale the data as shown in:\n",
            "    https://scikit-learn.org/stable/modules/preprocessing.html\n",
            "Please also refer to the documentation for alternative solver options:\n",
            "    https://scikit-learn.org/stable/modules/linear_model.html#logistic-regression\n",
            "  n_iter_i = _check_optimize_result(\n"
          ]
        },
        {
          "name": "stdout",
          "output_type": "stream",
          "text": [
            "[('SVM', 0.7137681159420289), ('GNB', 0.8369565217391305), ('KNN', 0.6956521739130435), ('DT', 0.7862318840579711), ('LR', 0.8333333333333334), ('PERC', 0.6920289855072463), ('BAG', 0.855072463768116), ('RF', 0.8586956521739131), ('ET', 0.8695652173913043), ('ADA', 0.8623188405797102), ('GTB', 0.8731884057971014), ('VOT', 0.8695652173913043)]\n",
            "Best Algo is: GTB with max accuracy of  0.8731884057971014\n",
            "Best Algo is: DT with min time is  0.0\n"
          ]
        }
      ],
      "source": [
        "from sklearn.svm import SVC\n",
        "from sklearn.neighbors import KNeighborsClassifier\n",
        "from sklearn.tree import DecisionTreeClassifier\n",
        "from sklearn.naive_bayes import GaussianNB\n",
        "from sklearn.linear_model import LogisticRegression\n",
        "from sklearn.linear_model import Perceptron\n",
        "from sklearn.ensemble import BaggingClassifier,RandomForestClassifier,ExtraTreesClassifier\n",
        "from sklearn.ensemble import AdaBoostClassifier,GradientBoostingClassifier\n",
        "from sklearn.ensemble import VotingClassifier\n",
        "\n",
        "clf1=SVC()\n",
        "clf2=GaussianNB()\n",
        "clf3=KNeighborsClassifier()\n",
        "clf4=DecisionTreeClassifier()\n",
        "clf5=LogisticRegression()\n",
        "clf6=Perceptron()\n",
        "clf7=BaggingClassifier()\n",
        "clf8=RandomForestClassifier()\n",
        "clf9=ExtraTreesClassifier()\n",
        "clf10=AdaBoostClassifier()\n",
        "clf11=GradientBoostingClassifier()\n",
        "clf12=VotingClassifier(estimators=[('Bag',clf7),(\"rf\",clf8),(\"Et\",clf9),(\"ada\",clf10),(\"gtb\",clf11)],voting=\"hard\")\n",
        "clf6.fit(x_train,y_train)\n",
        "clf=[clf1,clf2,clf3,clf4,clf5,clf6,clf7,clf8,clf9,clf10,clf11,clf12]\n",
        "name=[\"SVM\",\"GNB\",\"KNN\",\"DT\",\"LR\",\"PERC\",\"BAG\",\"RF\",\"ET\",\"ADA\",\"GTB\",\"VOT\"]\n",
        "acc={}\n",
        "t={}\n",
        "import time\n",
        "for classifier,classifier_name in zip(clf,name):\n",
        "    st=time.time()\n",
        "    classifier.fit(x_train,y_train)\n",
        "    y_pred=classifier.predict(x_test)\n",
        "    et=time.time()\n",
        "    acc[classifier_name]=accuracy_score(y_pred,y_test)\n",
        "    t[classifier_name]=et-st\n",
        "\n",
        "print([(m,v) for m,v in acc.items()])\n",
        "print(\"Best Algo is:\",end=\" \")\n",
        "for model,val in acc.items():\n",
        "    if (val==max(acc.values())):print(model,\"with max accuracy of \",val)\n",
        "print(\"Best Algo is:\",end=\" \")\n",
        "for model,val in t.items():\n",
        "    if (val==min(t.values())):print(model,\"with min time is \",val)\n"
      ]
    },
    {
      "cell_type": "code",
      "execution_count": null,
      "id": "8cf9681e",
      "metadata": {
        "id": "8cf9681e",
        "outputId": "952270a6-f8d7-46c8-ad64-ddedfc669cb5"
      },
      "outputs": [
        {
          "data": {
            "text/plain": [
              "<AxesSubplot:>"
            ]
          },
          "execution_count": 37,
          "metadata": {},
          "output_type": "execute_result"
        },
        {
          "data": {
            "image/png": "[encoded data removed]",
            "text/plain": [
              "<Figure size 432x288 with 2 Axes>"
            ]
          },
          "metadata": {
            "needs_background": "light"
          },
          "output_type": "display_data"
        }
      ],
      "source": [
        "from sklearn.metrics import confusion_matrix\n",
        "cf=confusion_matrix(y_pred,y_test)\n",
        "import seaborn as sns\n",
        "sns.heatmap(cf,annot=True,fmt='d',linewidths=1)"
      ]
    },
    {
      "cell_type": "code",
      "execution_count": null,
      "id": "35197978",
      "metadata": {
        "id": "35197978",
        "outputId": "682fe941-abac-42e2-859a-c1906ce9840a"
      },
      "outputs": [
        {
          "data": {
            "image/png": "[encoded data removed]",
            "text/plain": [
              "<Figure size 432x288 with 1 Axes>"
            ]
          },
          "metadata": {
            "needs_background": "light"
          },
          "output_type": "display_data"
        }
      ],
      "source": [
        "import matplotlib.pyplot as plt\n",
        "plt.bar(range(len(acc)), list(acc.values()), tick_label=list(acc.keys()))\n",
        "plt.show()"
      ]
    },
    {
      "cell_type": "code",
      "execution_count": null,
      "id": "493ebc78",
      "metadata": {
        "id": "493ebc78",
        "outputId": "e3cfea1f-94a3-40e8-a3e6-413a9bf3ad99"
      },
      "outputs": [
        {
          "name": "stdout",
          "output_type": "stream",
          "text": [
            "              precision    recall  f1-score   support\n",
            "\n",
            "           0       0.85      0.82      0.84       113\n",
            "           1       0.88      0.90      0.89       163\n",
            "\n",
            "    accuracy                           0.87       276\n",
            "   macro avg       0.87      0.86      0.86       276\n",
            "weighted avg       0.87      0.87      0.87       276\n",
            "\n"
          ]
        }
      ],
      "source": [
        "from sklearn.metrics import classification_report\n",
        "cfr=classification_report(y_test,y_pred)\n",
        "print(cfr)"
      ]
    },
    {
      "cell_type": "code",
      "execution_count": null,
      "id": "c7819549",
      "metadata": {
        "id": "c7819549"
      },
      "outputs": [],
      "source": []
    }
  ],
  "metadata": {
    "kernelspec": {
      "display_name": "Python 3 (ipykernel)",
      "language": "python",
      "name": "python3"
    },
    "language_info": {
      "codemirror_mode": {
        "name": "ipython",
        "version": 3
      },
      "file_extension": ".py",
      "mimetype": "text/x-python",
      "name": "python",
      "nbconvert_exporter": "python",
      "pygments_lexer": "ipython3",
      "version": "3.9.7"
    },
    "colab": {
      "provenance": [],
      "include_colab_link": true
    }
  },
  "nbformat": 4,
  "nbformat_minor": 5
}